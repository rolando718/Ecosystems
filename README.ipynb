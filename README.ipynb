{
 "cells": [
  {
   "cell_type": "markdown",
   "metadata": {},
   "source": [
    "# What can Latent Dirichlet Allocation topic modeling say about ecosystems?\n",
    "\n",
    "1. [Descriptive analysis.](http://innovadata.ca/ecosystem/descriptive.html)\n",
    "2. [Topic model](http://innovadata.ca/ecosystem/topic.html)"
   ]
  },
  {
   "cell_type": "code",
   "execution_count": 1,
   "metadata": {},
   "outputs": [],
   "source": [
    "import metaknowledge as mk\n",
    "import pandas as pd"
   ]
  },
  {
   "cell_type": "code",
   "execution_count": 2,
   "metadata": {},
   "outputs": [],
   "source": [
    "eco = pd.read_excel('2_generated_datasets/Ecosystems.xlsx', sheet_name='ecosystems')"
   ]
  },
  {
   "cell_type": "code",
   "execution_count": 3,
   "metadata": {},
   "outputs": [
    {
     "data": {
      "text/plain": [
       "BusE      665\n",
       "DatE      194\n",
       "DigE      510\n",
       "EntE      379\n",
       "HE        343\n",
       "IndE      259\n",
       "InfE      128\n",
       "InnE      631\n",
       "KnowE      84\n",
       "OSE        29\n",
       "PlatE     116\n",
       "SerE      380\n",
       "SofE      427\n",
       "Doc      4145\n",
       "Rev         0\n",
       "dtype: int64"
      ]
     },
     "execution_count": 3,
     "metadata": {},
     "output_type": "execute_result"
    }
   ],
   "source": [
    "eco[list(eco.loc[:, \"BusE\": \"Rev\"])].sum()"
   ]
  },
  {
   "cell_type": "code",
   "execution_count": 4,
   "metadata": {},
   "outputs": [],
   "source": [
    "rev = pd.read_excel('2_generated_datasets/Reviews.xlsx', sheet_name='rev')"
   ]
  },
  {
   "cell_type": "code",
   "execution_count": 5,
   "metadata": {},
   "outputs": [
    {
     "data": {
      "text/plain": [
       "BusE      49\n",
       "DatE       6\n",
       "DigE      10\n",
       "EntE      20\n",
       "HE        11\n",
       "IndE       7\n",
       "InfE       2\n",
       "InnE      43\n",
       "KnowE      5\n",
       "OSE        2\n",
       "PlatE      3\n",
       "SerE      13\n",
       "SofE      21\n",
       "Doc        0\n",
       "Rev      192\n",
       "dtype: int64"
      ]
     },
     "execution_count": 5,
     "metadata": {},
     "output_type": "execute_result"
    }
   ],
   "source": [
    "rev[list(rev.loc[:, \"BusE\": \"Rev\"])].sum()"
   ]
  }
 ],
 "metadata": {
  "kernelspec": {
   "display_name": "Python 3",
   "language": "python",
   "name": "python3"
  },
  "language_info": {
   "codemirror_mode": {
    "name": "ipython",
    "version": 3
   },
   "file_extension": ".py",
   "mimetype": "text/x-python",
   "name": "python",
   "nbconvert_exporter": "python",
   "pygments_lexer": "ipython3",
   "version": "3.7.6"
  }
 },
 "nbformat": 4,
 "nbformat_minor": 4
}
